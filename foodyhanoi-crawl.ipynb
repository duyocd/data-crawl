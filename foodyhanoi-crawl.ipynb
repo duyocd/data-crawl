{
 "cells": [
  {
   "cell_type": "code",
   "execution_count": 2,
   "metadata": {},
   "outputs": [],
   "source": [
    "import numpy as np \n",
    "import pandas as pd\n",
    "import json\n",
    "import requests\n",
    "import pymongo\n"
   ]
  },
  {
   "cell_type": "code",
   "execution_count": 3,
   "metadata": {},
   "outputs": [],
   "source": [
    "def get_item_info(page):\n",
    "    url = f\"https://www.foody.vn/__get/Place/HomeListPlace?page={page}&count=12&type=1\"\n",
    "\n",
    "    payload = {}\n",
    "    headers = {\n",
    "      'accept': 'application/json, text/plain, */*',\n",
    "      'accept-language': 'en-US,en;q=0.9,vi;q=0.8',\n",
    "      'cookie': 'flg=vn; __ondemand_sessionid=3wlg42wxhz2o0laxysd25rk4; gcat=food; _ga=GA1.2.1719027915.1730881088; _gid=GA1.2.1099380745.1730881088; _fbp=fb.1.1730881087806.551658341389893352; __utma=257500956.1719027915.1730881088.1730881089.1730881089.1; __utmc=257500956; __utmz=257500956.1730881089.1.1.utmcsr=google|utmccn=(organic)|utmcmd=organic|utmctr=(not%20provided); floc=218; _gat=1; _gat_ads=1; __utmt_UA-33292184-1=1; __utmb=257500956.6.10.1730881089; _ga_6M8E625L9H=GS1.2.1730881088.1.1.1730882178.54.0.0',\n",
    "      'priority': 'u=1, i',\n",
    "      'referer': 'https://www.foody.vn/ha-noi',\n",
    "      'sec-ch-ua': '\"Chromium\";v=\"130\", \"Google Chrome\";v=\"130\", \"Not?A_Brand\";v=\"99\"',\n",
    "      'sec-ch-ua-mobile': '?0',\n",
    "      'sec-ch-ua-platform': '\"Windows\"',\n",
    "      'sec-fetch-dest': 'empty',\n",
    "      'sec-fetch-mode': 'cors',\n",
    "      'sec-fetch-site': 'same-origin',\n",
    "      'user-agent': 'Mozilla/5.0 (Windows NT 10.0; Win64; x64) AppleWebKit/537.36 (KHTML, like Gecko) Chrome/130.0.0.0 Safari/537.36',\n",
    "      'x-requested-with': 'XMLHttpRequest'\n",
    "    }\n",
    "\n",
    "    response = requests.request(\"GET\", url, headers=headers, data=payload)\n",
    "    data_json = json.loads(response.text)\n",
    "    return data_json['Items']\n"
   ]
  },
  {
   "cell_type": "code",
   "execution_count": null,
   "metadata": {},
   "outputs": [
    {
     "data": {
      "text/plain": [
       "1980"
      ]
     },
     "execution_count": 13,
     "metadata": {},
     "output_type": "execute_result"
    }
   ],
   "source": [
    "# total shop\n",
    "food = get_item_info(page= 166)\n",
    "doc = []\n",
    "for page in range(1,166):\n",
    "    for item in get_item_info(page):\n",
    "      doc.append(item[\"Id\"])\n",
    "len(doc)"
   ]
  },
  {
   "cell_type": "code",
   "execution_count": null,
   "metadata": {},
   "outputs": [
    {
     "name": "stdout",
     "output_type": "stream",
     "text": [
      "ID: 279924\n",
      "Name: Ốc Nóng - Kim Ngưu\n",
      "Address: 260 Kim Ngưu, Quận Hai Bà Trưng, Hà Nội\n",
      "Phone: Đang cập nhật\n",
      "Average Rating: 8.534\n",
      "Services: []\n",
      "ID: 959257\n",
      "Name: Vịt Quay Chị Béoo\n",
      "Address: 156 Ngõ 94 Hoàng Ngân, Quận Cầu Giấy, Hà Nội\n",
      "Phone: Đang cập nhật\n",
      "Average Rating: 5.95\n",
      "Services: [{'Id': 1, 'Type': 0, 'Url': 'https://www.deliverynow.vn/ha-noi/vit-quay-chi-beoo', 'Title': 'ShopeeFood', 'Text': 'Giao tận nơi', 'Avatar': '/style/images/40x40_icon-deliverynow.png', 'BackgroundColor': '#CE332F', 'RestaurantId': 959257, 'Description': None}]\n",
      "ID: 17071\n",
      "Name: Monkey Juice - Lý Thường Kiệt\n",
      "Address: 52P Lý Thường Kiệt, P. Trần Hưng Đạo, Quận Hoàn Kiếm, Hà Nội\n",
      "Phone: Đang cập nhật\n",
      "Average Rating: 6.766\n",
      "Services: [{'Id': 1, 'Type': 0, 'Url': 'https://www.deliverynow.vn/ha-noi/monkey-juice', 'Title': 'ShopeeFood', 'Text': 'Giao tận nơi', 'Avatar': '/style/images/40x40_icon-deliverynow.png', 'BackgroundColor': '#CE332F', 'RestaurantId': 17071, 'Description': None}]\n",
      "ID: 674183\n",
      "Name: KOMBO - Cơm Niêu Singapore - Trần Đại Nghĩa\n",
      "Address: 46 Trần Đại Ngĩa, P. Đồng Tâm, Quận Hai Bà Trưng, Hà Nội\n",
      "Phone:  0987 830 909\n",
      "Average Rating: 6.074\n",
      "Services: [{'Id': 1, 'Type': 0, 'Url': 'https://shopeefood.vn/ha-noi/table/kombo-com-nieu-singapore-tran-dai-nghia', 'Title': 'tablenow.vn', 'Text': 'Đặt bàn ', 'Avatar': '/style/images/40x40_icon-tablenow.png', 'BackgroundColor': '#E87C3A', 'RestaurantId': 674183, 'Description': None}, {'Id': 2, 'Type': 0, 'Url': 'https://www.deliverynow.vn/ha-noi/kombo-com-nieu-singapore-tran-dai-nghia', 'Title': 'ShopeeFood', 'Text': 'Giao tận nơi', 'Avatar': '/style/images/40x40_icon-deliverynow.png', 'BackgroundColor': '#CE332F', 'RestaurantId': 674183, 'Description': None}]\n",
      "ID: 1050043\n",
      "Name: Cô Mỹ - Cơm Văn Phòng - Hoàng Ngọc Phách\n",
      "Address: 48 Hoàng Ngọc Phách, P. Láng Hạ, Quận Đống Đa, Hà Nội\n",
      "Phone: Đang cập nhật\n",
      "Average Rating: 10.0\n",
      "Services: [{'Id': 1, 'Type': 0, 'Url': 'https://www.deliverynow.vn/ha-noi/co-my-com-van-phong-hoang-ngoc-phach', 'Title': 'ShopeeFood', 'Text': 'Giao tận nơi', 'Avatar': '/style/images/40x40_icon-deliverynow.png', 'BackgroundColor': '#CE332F', 'RestaurantId': 1050043, 'Description': None}]\n",
      "ID: 1082565\n",
      "Name: Highlands Coffee - Trà, Cà Phê & Bánh - Hyundai Hillsmall Hà Nội\n",
      "Address: Hyundai Hillsmall, 281 Khu Hà Trì, P. Hà Cầu, Quận Hà Đông, Hà Nội\n",
      "Phone: Đang cập nhật\n",
      "Average Rating: 8.0\n",
      "Services: [{'Id': 1, 'Type': 0, 'Url': 'https://www.deliverynow.vn/ha-noi/highlands-coffee-tra-ca-phe-banh-hyundai-hillsmall-ha-noi', 'Title': 'ShopeeFood', 'Text': 'Giao tận nơi', 'Avatar': '/style/images/40x40_icon-deliverynow.png', 'BackgroundColor': '#CE332F', 'RestaurantId': 1082565, 'Description': None}]\n",
      "ID: 1214874\n",
      "Name: Bún Ngan Vĩnh Hồ\n",
      "Address: Số 135 Vĩnh Hồ, P. Thịnh Quang, Quận Đống Đa, Hà Nội\n",
      "Phone: Đang cập nhật\n",
      "Average Rating: 10.0\n",
      "Services: [{'Id': 1, 'Type': 0, 'Url': 'https://www.deliverynow.vn/ha-noi/bun-ngan-vinh-ho', 'Title': 'ShopeeFood', 'Text': 'Giao tận nơi', 'Avatar': '/style/images/40x40_icon-deliverynow.png', 'BackgroundColor': '#CE332F', 'RestaurantId': 1214874, 'Description': None}]\n",
      "ID: 1023145\n",
      "Name: Sành Rau Má, Nước Mía Sầu Riêng & Trà Bí Đao - Chùa Láng\n",
      "Address: 10 Ngõ 185 Chùa Láng, Quận Đống Đa, Hà Nội\n",
      "Phone: Đang cập nhật\n",
      "Average Rating: 9.96\n",
      "Services: [{'Id': 1, 'Type': 0, 'Url': 'https://www.deliverynow.vn/ha-noi/sanh-rau-ma-nuoc-mia-sau-rieng-tra-bi-dao-chua-lang', 'Title': 'ShopeeFood', 'Text': 'Giao tận nơi', 'Avatar': '/style/images/40x40_icon-deliverynow.png', 'BackgroundColor': '#CE332F', 'RestaurantId': 1023145, 'Description': None}]\n",
      "ID: 1033341\n",
      "Name: Sành Rau Má, Nước Mía Sầu Riêng & Trà Bí Đao - Tam Khương\n",
      "Address: Số 83A Phố Tam Khương, P. Khương Thượng, Quận Đống Đa, Hà Nội\n",
      "Phone: Đang cập nhật\n",
      "Average Rating: 9.92\n",
      "Services: [{'Id': 1, 'Type': 0, 'Url': 'https://www.deliverynow.vn/ha-noi/sanh-rau-ma-nuoc-mia-sau-rieng-tra-bi-dao-tam-khuong', 'Title': 'ShopeeFood', 'Text': 'Giao tận nơi', 'Avatar': '/style/images/40x40_icon-deliverynow.png', 'BackgroundColor': '#CE332F', 'RestaurantId': 1033341, 'Description': None}]\n",
      "ID: 985211\n",
      "Name: Ngô Nướng & Khoai Nướng - Chùa Láng\n",
      "Address: Đầu Ngõ 157 Chùa Láng, P. Láng Thượng, Quận Đống Đa, Hà Nội\n",
      "Phone: Đang cập nhật\n",
      "Average Rating: 6.1\n",
      "Services: [{'Id': 1, 'Type': 0, 'Url': 'https://www.deliverynow.vn/ha-noi/ngo-nuong-khoai-nuong-chua-lang', 'Title': 'ShopeeFood', 'Text': 'Giao tận nơi', 'Avatar': '/style/images/40x40_icon-deliverynow.png', 'BackgroundColor': '#CE332F', 'RestaurantId': 985211, 'Description': None}]\n",
      "ID: 1226283\n",
      "Name: Xôi Hương - Phùng Khoang\n",
      "Address: Số 7 Ngõ 29 Phùng Khoang, P. Trung Văn, Quận Nam Từ Liêm, Hà Nội\n",
      "Phone: Đang cập nhật\n",
      "Average Rating: 10.0\n",
      "Services: [{'Id': 1, 'Type': 0, 'Url': 'https://www.deliverynow.vn/ha-noi/xoi-huong-phung-khoang', 'Title': 'ShopeeFood', 'Text': 'Giao tận nơi', 'Avatar': '/style/images/40x40_icon-deliverynow.png', 'BackgroundColor': '#CE332F', 'RestaurantId': 1226283, 'Description': None}]\n",
      "ID: 1175997\n",
      "Name: Nem Nướng Nha Trang Minh Đức - Hoa Bằng\n",
      "Address: 9 Ngõ 184 Hoa Bằng, P. Yên Hòa, Quận Cầu Giấy, Hà Nội\n",
      "Phone: Đang cập nhật\n",
      "Average Rating: 10.0\n",
      "Services: [{'Id': 1, 'Type': 0, 'Url': 'https://www.deliverynow.vn/ha-noi/nem-nuong-nha-trang-minh-duc-hoa-bang', 'Title': 'ShopeeFood', 'Text': 'Giao tận nơi', 'Avatar': '/style/images/40x40_icon-deliverynow.png', 'BackgroundColor': '#CE332F', 'RestaurantId': 1175997, 'Description': None}]\n"
     ]
    }
   ],
   "source": [
    "# print example of one page\n",
    "food = get_item_info(page= 1)\n",
    "for item in food:\n",
    "    print(\"ID:\", item['Id'])\n",
    "    print(\"Name:\", item['Name'])\n",
    "    print(\"Address:\", item['Address'])\n",
    "    print(\"Phone:\", item['Phone'])\n",
    "    print(\"Average Rating:\", item['AvgRating'])\n",
    "    print(\"Services:\", item['Services'])"
   ]
  },
  {
   "cell_type": "code",
   "execution_count": null,
   "metadata": {},
   "outputs": [
    {
     "data": {
      "text/plain": [
       "Database(MongoClient(host=['localhost:27017'], document_class=dict, tz_aware=False, connect=True), 'sic-crawl')"
      ]
     },
     "execution_count": 5,
     "metadata": {},
     "output_type": "execute_result"
    }
   ],
   "source": [
    "#connect to mongo\n",
    "myclient = pymongo.MongoClient(\"mongodb://localhost:27017/\")\n",
    "mydb = myclient[\"sic-crawl\"]\n",
    "mydb"
   ]
  },
  {
   "cell_type": "code",
   "execution_count": null,
   "metadata": {},
   "outputs": [
    {
     "data": {
      "text/plain": [
       "Collection(Database(MongoClient(host=['localhost:27017'], document_class=dict, tz_aware=False, connect=True), 'sic-crawl'), 'lomart')"
      ]
     },
     "execution_count": 6,
     "metadata": {},
     "output_type": "execute_result"
    }
   ],
   "source": [
    "#connect to your collection\n",
    "mycol = mydb[\"lomart\"]\n",
    "mycol"
   ]
  },
  {
   "cell_type": "code",
   "execution_count": null,
   "metadata": {},
   "outputs": [
    {
     "name": "stdout",
     "output_type": "stream",
     "text": [
      "[ObjectId('672bc494e4d85bf1ca9266a6'), ObjectId('672bc494e4d85bf1ca9266a7'), ObjectId('672bc494e4d85bf1ca9266a8'), ObjectId('672bc494e4d85bf1ca9266a9'), ObjectId('672bc494e4d85bf1ca9266aa'), ObjectId('672bc494e4d85bf1ca9266ab'), ObjectId('672bc494e4d85bf1ca9266ac'), ObjectId('672bc494e4d85bf1ca9266ad'), ObjectId('672bc494e4d85bf1ca9266ae'), ObjectId('672bc494e4d85bf1ca9266af'), ObjectId('672bc494e4d85bf1ca9266b0'), ObjectId('672bc494e4d85bf1ca9266b1'), ObjectId('672bc494e4d85bf1ca9266b2'), ObjectId('672bc494e4d85bf1ca9266b3'), ObjectId('672bc494e4d85bf1ca9266b4'), ObjectId('672bc494e4d85bf1ca9266b5'), ObjectId('672bc494e4d85bf1ca9266b6'), ObjectId('672bc494e4d85bf1ca9266b7'), ObjectId('672bc494e4d85bf1ca9266b8'), ObjectId('672bc494e4d85bf1ca9266b9'), ObjectId('672bc494e4d85bf1ca9266ba'), ObjectId('672bc494e4d85bf1ca9266bb'), ObjectId('672bc494e4d85bf1ca9266bc'), ObjectId('672bc494e4d85bf1ca9266bd'), ObjectId('672bc494e4d85bf1ca9266be'), ObjectId('672bc494e4d85bf1ca9266bf'), ObjectId('672bc494e4d85bf1ca9266c0'), ObjectId('672bc494e4d85bf1ca9266c1'), ObjectId('672bc494e4d85bf1ca9266c2'), ObjectId('672bc494e4d85bf1ca9266c3'), ObjectId('672bc494e4d85bf1ca9266c4'), ObjectId('672bc494e4d85bf1ca9266c5'), ObjectId('672bc494e4d85bf1ca9266c6'), ObjectId('672bc494e4d85bf1ca9266c7'), ObjectId('672bc494e4d85bf1ca9266c8'), ObjectId('672bc494e4d85bf1ca9266c9'), ObjectId('672bc494e4d85bf1ca9266ca'), ObjectId('672bc494e4d85bf1ca9266cb'), ObjectId('672bc494e4d85bf1ca9266cc'), ObjectId('672bc494e4d85bf1ca9266cd'), ObjectId('672bc494e4d85bf1ca9266ce'), ObjectId('672bc494e4d85bf1ca9266cf'), ObjectId('672bc494e4d85bf1ca9266d0'), ObjectId('672bc494e4d85bf1ca9266d1'), ObjectId('672bc494e4d85bf1ca9266d2'), ObjectId('672bc494e4d85bf1ca9266d3'), ObjectId('672bc494e4d85bf1ca9266d4'), ObjectId('672bc494e4d85bf1ca9266d5'), ObjectId('672bc494e4d85bf1ca9266d6'), ObjectId('672bc494e4d85bf1ca9266d7'), ObjectId('672bc494e4d85bf1ca9266d8'), ObjectId('672bc494e4d85bf1ca9266d9'), ObjectId('672bc494e4d85bf1ca9266da'), ObjectId('672bc494e4d85bf1ca9266db'), ObjectId('672bc494e4d85bf1ca9266dc'), ObjectId('672bc494e4d85bf1ca9266dd'), ObjectId('672bc494e4d85bf1ca9266de'), ObjectId('672bc494e4d85bf1ca9266df'), ObjectId('672bc494e4d85bf1ca9266e0'), ObjectId('672bc494e4d85bf1ca9266e1'), ObjectId('672bc494e4d85bf1ca9266e2'), ObjectId('672bc494e4d85bf1ca9266e3'), ObjectId('672bc494e4d85bf1ca9266e4'), ObjectId('672bc494e4d85bf1ca9266e5'), ObjectId('672bc494e4d85bf1ca9266e6'), ObjectId('672bc494e4d85bf1ca9266e7'), ObjectId('672bc494e4d85bf1ca9266e8'), ObjectId('672bc494e4d85bf1ca9266e9'), ObjectId('672bc494e4d85bf1ca9266ea'), ObjectId('672bc494e4d85bf1ca9266eb'), ObjectId('672bc494e4d85bf1ca9266ec'), ObjectId('672bc494e4d85bf1ca9266ed'), ObjectId('672bc494e4d85bf1ca9266ee'), ObjectId('672bc494e4d85bf1ca9266ef'), ObjectId('672bc494e4d85bf1ca9266f0'), ObjectId('672bc494e4d85bf1ca9266f1'), ObjectId('672bc494e4d85bf1ca9266f2'), ObjectId('672bc494e4d85bf1ca9266f3'), ObjectId('672bc494e4d85bf1ca9266f4'), ObjectId('672bc494e4d85bf1ca9266f5'), ObjectId('672bc494e4d85bf1ca9266f6'), ObjectId('672bc494e4d85bf1ca9266f7'), ObjectId('672bc494e4d85bf1ca9266f8'), ObjectId('672bc494e4d85bf1ca9266f9'), ObjectId('672bc494e4d85bf1ca9266fa'), ObjectId('672bc494e4d85bf1ca9266fb'), ObjectId('672bc494e4d85bf1ca9266fc'), ObjectId('672bc494e4d85bf1ca9266fd'), ObjectId('672bc494e4d85bf1ca9266fe'), ObjectId('672bc494e4d85bf1ca9266ff'), ObjectId('672bc494e4d85bf1ca926700'), ObjectId('672bc494e4d85bf1ca926701'), ObjectId('672bc494e4d85bf1ca926702'), ObjectId('672bc494e4d85bf1ca926703'), ObjectId('672bc494e4d85bf1ca926704'), ObjectId('672bc494e4d85bf1ca926705'), ObjectId('672bc494e4d85bf1ca926706'), ObjectId('672bc494e4d85bf1ca926707'), ObjectId('672bc494e4d85bf1ca926708'), ObjectId('672bc494e4d85bf1ca926709'), ObjectId('672bc494e4d85bf1ca92670a'), ObjectId('672bc494e4d85bf1ca92670b'), ObjectId('672bc494e4d85bf1ca92670c'), ObjectId('672bc494e4d85bf1ca92670d'), ObjectId('672bc494e4d85bf1ca92670e'), ObjectId('672bc494e4d85bf1ca92670f'), ObjectId('672bc494e4d85bf1ca926710'), ObjectId('672bc494e4d85bf1ca926711'), ObjectId('672bc494e4d85bf1ca926712'), ObjectId('672bc494e4d85bf1ca926713'), ObjectId('672bc494e4d85bf1ca926714'), ObjectId('672bc494e4d85bf1ca926715'), ObjectId('672bc494e4d85bf1ca926716'), ObjectId('672bc494e4d85bf1ca926717'), ObjectId('672bc494e4d85bf1ca926718'), ObjectId('672bc494e4d85bf1ca926719'), ObjectId('672bc494e4d85bf1ca92671a'), ObjectId('672bc494e4d85bf1ca92671b'), ObjectId('672bc494e4d85bf1ca92671c'), ObjectId('672bc494e4d85bf1ca92671d'), ObjectId('672bc494e4d85bf1ca92671e'), ObjectId('672bc494e4d85bf1ca92671f'), ObjectId('672bc494e4d85bf1ca926720'), ObjectId('672bc494e4d85bf1ca926721'), ObjectId('672bc494e4d85bf1ca926722'), ObjectId('672bc494e4d85bf1ca926723'), ObjectId('672bc494e4d85bf1ca926724'), ObjectId('672bc494e4d85bf1ca926725'), ObjectId('672bc494e4d85bf1ca926726'), ObjectId('672bc494e4d85bf1ca926727'), ObjectId('672bc494e4d85bf1ca926728'), ObjectId('672bc494e4d85bf1ca926729'), ObjectId('672bc494e4d85bf1ca92672a'), ObjectId('672bc494e4d85bf1ca92672b'), ObjectId('672bc494e4d85bf1ca92672c'), ObjectId('672bc494e4d85bf1ca92672d'), ObjectId('672bc494e4d85bf1ca92672e'), ObjectId('672bc494e4d85bf1ca92672f'), ObjectId('672bc494e4d85bf1ca926730'), ObjectId('672bc494e4d85bf1ca926731'), ObjectId('672bc494e4d85bf1ca926732'), ObjectId('672bc494e4d85bf1ca926733'), ObjectId('672bc494e4d85bf1ca926734'), ObjectId('672bc494e4d85bf1ca926735'), ObjectId('672bc494e4d85bf1ca926736'), ObjectId('672bc494e4d85bf1ca926737'), ObjectId('672bc494e4d85bf1ca926738'), ObjectId('672bc494e4d85bf1ca926739'), ObjectId('672bc494e4d85bf1ca92673a'), ObjectId('672bc494e4d85bf1ca92673b'), ObjectId('672bc494e4d85bf1ca92673c'), ObjectId('672bc494e4d85bf1ca92673d'), ObjectId('672bc494e4d85bf1ca92673e'), ObjectId('672bc494e4d85bf1ca92673f'), ObjectId('672bc494e4d85bf1ca926740'), ObjectId('672bc494e4d85bf1ca926741'), ObjectId('672bc494e4d85bf1ca926742'), ObjectId('672bc494e4d85bf1ca926743'), ObjectId('672bc494e4d85bf1ca926744'), ObjectId('672bc494e4d85bf1ca926745'), ObjectId('672bc494e4d85bf1ca926746'), ObjectId('672bc494e4d85bf1ca926747'), ObjectId('672bc494e4d85bf1ca926748'), ObjectId('672bc494e4d85bf1ca926749'), ObjectId('672bc494e4d85bf1ca92674a'), ObjectId('672bc494e4d85bf1ca92674b'), ObjectId('672bc494e4d85bf1ca92674c'), ObjectId('672bc494e4d85bf1ca92674d'), ObjectId('672bc494e4d85bf1ca92674e'), ObjectId('672bc494e4d85bf1ca92674f'), ObjectId('672bc494e4d85bf1ca926750'), ObjectId('672bc494e4d85bf1ca926751'), ObjectId('672bc494e4d85bf1ca926752'), ObjectId('672bc494e4d85bf1ca926753'), ObjectId('672bc494e4d85bf1ca926754'), ObjectId('672bc494e4d85bf1ca926755'), ObjectId('672bc494e4d85bf1ca926756'), ObjectId('672bc494e4d85bf1ca926757'), ObjectId('672bc494e4d85bf1ca926758'), ObjectId('672bc494e4d85bf1ca926759'), ObjectId('672bc494e4d85bf1ca92675a'), ObjectId('672bc494e4d85bf1ca92675b'), ObjectId('672bc494e4d85bf1ca92675c'), ObjectId('672bc494e4d85bf1ca92675d'), ObjectId('672bc494e4d85bf1ca92675e'), ObjectId('672bc494e4d85bf1ca92675f'), ObjectId('672bc494e4d85bf1ca926760'), ObjectId('672bc494e4d85bf1ca926761'), ObjectId('672bc494e4d85bf1ca926762'), ObjectId('672bc494e4d85bf1ca926763'), ObjectId('672bc494e4d85bf1ca926764'), ObjectId('672bc494e4d85bf1ca926765'), ObjectId('672bc494e4d85bf1ca926766'), ObjectId('672bc494e4d85bf1ca926767'), ObjectId('672bc494e4d85bf1ca926768'), ObjectId('672bc494e4d85bf1ca926769'), ObjectId('672bc494e4d85bf1ca92676a'), ObjectId('672bc494e4d85bf1ca92676b'), ObjectId('672bc494e4d85bf1ca92676c'), ObjectId('672bc494e4d85bf1ca92676d'), ObjectId('672bc494e4d85bf1ca92676e'), ObjectId('672bc494e4d85bf1ca92676f'), ObjectId('672bc494e4d85bf1ca926770'), ObjectId('672bc494e4d85bf1ca926771'), ObjectId('672bc494e4d85bf1ca926772'), ObjectId('672bc494e4d85bf1ca926773'), ObjectId('672bc494e4d85bf1ca926774'), ObjectId('672bc494e4d85bf1ca926775'), ObjectId('672bc494e4d85bf1ca926776'), ObjectId('672bc494e4d85bf1ca926777'), ObjectId('672bc494e4d85bf1ca926778'), ObjectId('672bc494e4d85bf1ca926779'), ObjectId('672bc494e4d85bf1ca92677a'), ObjectId('672bc494e4d85bf1ca92677b'), ObjectId('672bc494e4d85bf1ca92677c'), ObjectId('672bc494e4d85bf1ca92677d'), ObjectId('672bc494e4d85bf1ca92677e'), ObjectId('672bc494e4d85bf1ca92677f'), ObjectId('672bc494e4d85bf1ca926780'), ObjectId('672bc494e4d85bf1ca926781'), ObjectId('672bc494e4d85bf1ca926782'), ObjectId('672bc494e4d85bf1ca926783'), ObjectId('672bc494e4d85bf1ca926784'), ObjectId('672bc494e4d85bf1ca926785'), ObjectId('672bc494e4d85bf1ca926786'), ObjectId('672bc494e4d85bf1ca926787'), ObjectId('672bc494e4d85bf1ca926788'), ObjectId('672bc494e4d85bf1ca926789'), ObjectId('672bc494e4d85bf1ca92678a'), ObjectId('672bc494e4d85bf1ca92678b'), ObjectId('672bc494e4d85bf1ca92678c'), ObjectId('672bc494e4d85bf1ca92678d'), ObjectId('672bc494e4d85bf1ca92678e'), ObjectId('672bc494e4d85bf1ca92678f'), ObjectId('672bc494e4d85bf1ca926790'), ObjectId('672bc494e4d85bf1ca926791'), ObjectId('672bc494e4d85bf1ca926792'), ObjectId('672bc494e4d85bf1ca926793'), ObjectId('672bc494e4d85bf1ca926794'), ObjectId('672bc494e4d85bf1ca926795'), ObjectId('672bc494e4d85bf1ca926796'), ObjectId('672bc494e4d85bf1ca926797'), ObjectId('672bc494e4d85bf1ca926798'), ObjectId('672bc494e4d85bf1ca926799'), ObjectId('672bc494e4d85bf1ca92679a'), ObjectId('672bc494e4d85bf1ca92679b'), ObjectId('672bc494e4d85bf1ca92679c'), ObjectId('672bc494e4d85bf1ca92679d'), ObjectId('672bc494e4d85bf1ca92679e'), ObjectId('672bc494e4d85bf1ca92679f'), ObjectId('672bc494e4d85bf1ca9267a0'), ObjectId('672bc494e4d85bf1ca9267a1'), ObjectId('672bc494e4d85bf1ca9267a2'), ObjectId('672bc494e4d85bf1ca9267a3'), ObjectId('672bc494e4d85bf1ca9267a4'), ObjectId('672bc494e4d85bf1ca9267a5'), ObjectId('672bc494e4d85bf1ca9267a6'), ObjectId('672bc494e4d85bf1ca9267a7'), ObjectId('672bc494e4d85bf1ca9267a8'), ObjectId('672bc494e4d85bf1ca9267a9'), ObjectId('672bc494e4d85bf1ca9267aa'), ObjectId('672bc494e4d85bf1ca9267ab'), ObjectId('672bc494e4d85bf1ca9267ac'), ObjectId('672bc494e4d85bf1ca9267ad'), ObjectId('672bc494e4d85bf1ca9267ae'), ObjectId('672bc494e4d85bf1ca9267af'), ObjectId('672bc494e4d85bf1ca9267b0'), ObjectId('672bc494e4d85bf1ca9267b1'), ObjectId('672bc494e4d85bf1ca9267b2'), ObjectId('672bc494e4d85bf1ca9267b3'), ObjectId('672bc494e4d85bf1ca9267b4'), ObjectId('672bc494e4d85bf1ca9267b5'), ObjectId('672bc494e4d85bf1ca9267b6'), ObjectId('672bc494e4d85bf1ca9267b7'), ObjectId('672bc494e4d85bf1ca9267b8'), ObjectId('672bc494e4d85bf1ca9267b9'), ObjectId('672bc494e4d85bf1ca9267ba'), ObjectId('672bc494e4d85bf1ca9267bb'), ObjectId('672bc494e4d85bf1ca9267bc'), ObjectId('672bc494e4d85bf1ca9267bd'), ObjectId('672bc494e4d85bf1ca9267be'), ObjectId('672bc494e4d85bf1ca9267bf'), ObjectId('672bc494e4d85bf1ca9267c0'), ObjectId('672bc494e4d85bf1ca9267c1'), ObjectId('672bc494e4d85bf1ca9267c2'), ObjectId('672bc494e4d85bf1ca9267c3'), ObjectId('672bc494e4d85bf1ca9267c4'), ObjectId('672bc494e4d85bf1ca9267c5'), ObjectId('672bc494e4d85bf1ca9267c6'), ObjectId('672bc494e4d85bf1ca9267c7'), ObjectId('672bc494e4d85bf1ca9267c8'), ObjectId('672bc494e4d85bf1ca9267c9'), ObjectId('672bc494e4d85bf1ca9267ca'), ObjectId('672bc494e4d85bf1ca9267cb'), ObjectId('672bc494e4d85bf1ca9267cc'), ObjectId('672bc494e4d85bf1ca9267cd'), ObjectId('672bc494e4d85bf1ca9267ce'), ObjectId('672bc494e4d85bf1ca9267cf'), ObjectId('672bc494e4d85bf1ca9267d0'), ObjectId('672bc494e4d85bf1ca9267d1'), ObjectId('672bc494e4d85bf1ca9267d2'), ObjectId('672bc494e4d85bf1ca9267d3'), ObjectId('672bc494e4d85bf1ca9267d4'), ObjectId('672bc494e4d85bf1ca9267d5'), ObjectId('672bc494e4d85bf1ca9267d6'), ObjectId('672bc494e4d85bf1ca9267d7'), ObjectId('672bc494e4d85bf1ca9267d8'), ObjectId('672bc494e4d85bf1ca9267d9'), ObjectId('672bc494e4d85bf1ca9267da'), ObjectId('672bc494e4d85bf1ca9267db'), ObjectId('672bc494e4d85bf1ca9267dc'), ObjectId('672bc494e4d85bf1ca9267dd'), ObjectId('672bc494e4d85bf1ca9267de'), ObjectId('672bc494e4d85bf1ca9267df'), ObjectId('672bc494e4d85bf1ca9267e0'), ObjectId('672bc494e4d85bf1ca9267e1'), ObjectId('672bc494e4d85bf1ca9267e2'), ObjectId('672bc494e4d85bf1ca9267e3'), ObjectId('672bc494e4d85bf1ca9267e4'), ObjectId('672bc494e4d85bf1ca9267e5'), ObjectId('672bc494e4d85bf1ca9267e6'), ObjectId('672bc494e4d85bf1ca9267e7'), ObjectId('672bc494e4d85bf1ca9267e8'), ObjectId('672bc494e4d85bf1ca9267e9'), ObjectId('672bc494e4d85bf1ca9267ea'), ObjectId('672bc494e4d85bf1ca9267eb'), ObjectId('672bc494e4d85bf1ca9267ec'), ObjectId('672bc494e4d85bf1ca9267ed'), ObjectId('672bc494e4d85bf1ca9267ee'), ObjectId('672bc494e4d85bf1ca9267ef'), ObjectId('672bc494e4d85bf1ca9267f0'), ObjectId('672bc494e4d85bf1ca9267f1'), ObjectId('672bc494e4d85bf1ca9267f2'), ObjectId('672bc494e4d85bf1ca9267f3'), ObjectId('672bc494e4d85bf1ca9267f4'), ObjectId('672bc494e4d85bf1ca9267f5'), ObjectId('672bc494e4d85bf1ca9267f6'), ObjectId('672bc494e4d85bf1ca9267f7'), ObjectId('672bc494e4d85bf1ca9267f8'), ObjectId('672bc494e4d85bf1ca9267f9'), ObjectId('672bc494e4d85bf1ca9267fa'), ObjectId('672bc494e4d85bf1ca9267fb'), ObjectId('672bc494e4d85bf1ca9267fc'), ObjectId('672bc494e4d85bf1ca9267fd'), ObjectId('672bc494e4d85bf1ca9267fe'), ObjectId('672bc494e4d85bf1ca9267ff'), ObjectId('672bc494e4d85bf1ca926800'), ObjectId('672bc494e4d85bf1ca926801'), ObjectId('672bc494e4d85bf1ca926802'), ObjectId('672bc494e4d85bf1ca926803'), ObjectId('672bc494e4d85bf1ca926804'), ObjectId('672bc494e4d85bf1ca926805'), ObjectId('672bc494e4d85bf1ca926806'), ObjectId('672bc494e4d85bf1ca926807'), ObjectId('672bc494e4d85bf1ca926808'), ObjectId('672bc494e4d85bf1ca926809'), ObjectId('672bc494e4d85bf1ca92680a'), ObjectId('672bc494e4d85bf1ca92680b'), ObjectId('672bc494e4d85bf1ca92680c'), ObjectId('672bc494e4d85bf1ca92680d'), ObjectId('672bc494e4d85bf1ca92680e'), ObjectId('672bc494e4d85bf1ca92680f'), ObjectId('672bc494e4d85bf1ca926810'), ObjectId('672bc494e4d85bf1ca926811'), ObjectId('672bc494e4d85bf1ca926812'), ObjectId('672bc494e4d85bf1ca926813'), ObjectId('672bc494e4d85bf1ca926814'), ObjectId('672bc494e4d85bf1ca926815'), ObjectId('672bc494e4d85bf1ca926816'), ObjectId('672bc494e4d85bf1ca926817'), ObjectId('672bc494e4d85bf1ca926818'), ObjectId('672bc494e4d85bf1ca926819'), ObjectId('672bc494e4d85bf1ca92681a'), ObjectId('672bc494e4d85bf1ca92681b'), ObjectId('672bc494e4d85bf1ca92681c'), ObjectId('672bc494e4d85bf1ca92681d'), ObjectId('672bc494e4d85bf1ca92681e'), ObjectId('672bc494e4d85bf1ca92681f'), ObjectId('672bc494e4d85bf1ca926820'), ObjectId('672bc494e4d85bf1ca926821'), ObjectId('672bc494e4d85bf1ca926822'), ObjectId('672bc494e4d85bf1ca926823'), ObjectId('672bc494e4d85bf1ca926824'), ObjectId('672bc494e4d85bf1ca926825'), ObjectId('672bc494e4d85bf1ca926826'), ObjectId('672bc494e4d85bf1ca926827'), ObjectId('672bc494e4d85bf1ca926828'), ObjectId('672bc494e4d85bf1ca926829'), ObjectId('672bc494e4d85bf1ca92682a'), ObjectId('672bc494e4d85bf1ca92682b'), ObjectId('672bc494e4d85bf1ca92682c'), ObjectId('672bc494e4d85bf1ca92682d'), ObjectId('672bc494e4d85bf1ca92682e'), ObjectId('672bc494e4d85bf1ca92682f'), ObjectId('672bc494e4d85bf1ca926830'), ObjectId('672bc494e4d85bf1ca926831'), ObjectId('672bc494e4d85bf1ca926832'), ObjectId('672bc494e4d85bf1ca926833'), ObjectId('672bc494e4d85bf1ca926834'), ObjectId('672bc494e4d85bf1ca926835'), ObjectId('672bc494e4d85bf1ca926836'), ObjectId('672bc494e4d85bf1ca926837'), ObjectId('672bc494e4d85bf1ca926838'), ObjectId('672bc494e4d85bf1ca926839'), ObjectId('672bc494e4d85bf1ca92683a'), ObjectId('672bc494e4d85bf1ca92683b'), ObjectId('672bc494e4d85bf1ca92683c'), ObjectId('672bc494e4d85bf1ca92683d'), ObjectId('672bc494e4d85bf1ca92683e'), ObjectId('672bc494e4d85bf1ca92683f'), ObjectId('672bc494e4d85bf1ca926840'), ObjectId('672bc494e4d85bf1ca926841'), ObjectId('672bc494e4d85bf1ca926842'), ObjectId('672bc494e4d85bf1ca926843'), ObjectId('672bc494e4d85bf1ca926844'), ObjectId('672bc494e4d85bf1ca926845'), ObjectId('672bc494e4d85bf1ca926846'), ObjectId('672bc494e4d85bf1ca926847'), ObjectId('672bc494e4d85bf1ca926848'), ObjectId('672bc494e4d85bf1ca926849'), ObjectId('672bc494e4d85bf1ca92684a'), ObjectId('672bc494e4d85bf1ca92684b'), ObjectId('672bc494e4d85bf1ca92684c'), ObjectId('672bc494e4d85bf1ca92684d'), ObjectId('672bc494e4d85bf1ca92684e'), ObjectId('672bc494e4d85bf1ca92684f'), ObjectId('672bc494e4d85bf1ca926850'), ObjectId('672bc494e4d85bf1ca926851'), ObjectId('672bc494e4d85bf1ca926852'), ObjectId('672bc494e4d85bf1ca926853'), ObjectId('672bc494e4d85bf1ca926854'), ObjectId('672bc494e4d85bf1ca926855'), ObjectId('672bc494e4d85bf1ca926856'), ObjectId('672bc494e4d85bf1ca926857'), ObjectId('672bc494e4d85bf1ca926858'), ObjectId('672bc494e4d85bf1ca926859'), ObjectId('672bc494e4d85bf1ca92685a'), ObjectId('672bc494e4d85bf1ca92685b'), ObjectId('672bc494e4d85bf1ca92685c'), ObjectId('672bc494e4d85bf1ca92685d'), ObjectId('672bc494e4d85bf1ca92685e'), ObjectId('672bc494e4d85bf1ca92685f'), ObjectId('672bc494e4d85bf1ca926860'), ObjectId('672bc494e4d85bf1ca926861'), ObjectId('672bc494e4d85bf1ca926862'), ObjectId('672bc494e4d85bf1ca926863'), ObjectId('672bc494e4d85bf1ca926864'), ObjectId('672bc494e4d85bf1ca926865'), ObjectId('672bc494e4d85bf1ca926866'), ObjectId('672bc494e4d85bf1ca926867'), ObjectId('672bc494e4d85bf1ca926868'), ObjectId('672bc494e4d85bf1ca926869'), ObjectId('672bc494e4d85bf1ca92686a'), ObjectId('672bc494e4d85bf1ca92686b'), ObjectId('672bc494e4d85bf1ca92686c'), ObjectId('672bc494e4d85bf1ca92686d'), ObjectId('672bc494e4d85bf1ca92686e'), ObjectId('672bc494e4d85bf1ca92686f'), ObjectId('672bc494e4d85bf1ca926870'), ObjectId('672bc494e4d85bf1ca926871'), ObjectId('672bc494e4d85bf1ca926872'), ObjectId('672bc494e4d85bf1ca926873'), ObjectId('672bc494e4d85bf1ca926874'), ObjectId('672bc494e4d85bf1ca926875'), ObjectId('672bc494e4d85bf1ca926876'), ObjectId('672bc494e4d85bf1ca926877'), ObjectId('672bc494e4d85bf1ca926878'), ObjectId('672bc494e4d85bf1ca926879'), ObjectId('672bc494e4d85bf1ca92687a'), ObjectId('672bc494e4d85bf1ca92687b'), ObjectId('672bc494e4d85bf1ca92687c'), ObjectId('672bc494e4d85bf1ca92687d'), ObjectId('672bc494e4d85bf1ca92687e'), ObjectId('672bc494e4d85bf1ca92687f'), ObjectId('672bc494e4d85bf1ca926880'), ObjectId('672bc494e4d85bf1ca926881'), ObjectId('672bc494e4d85bf1ca926882'), ObjectId('672bc494e4d85bf1ca926883'), ObjectId('672bc494e4d85bf1ca926884'), ObjectId('672bc494e4d85bf1ca926885'), ObjectId('672bc494e4d85bf1ca926886'), ObjectId('672bc494e4d85bf1ca926887'), ObjectId('672bc494e4d85bf1ca926888'), ObjectId('672bc494e4d85bf1ca926889'), ObjectId('672bc494e4d85bf1ca92688a'), ObjectId('672bc494e4d85bf1ca92688b'), ObjectId('672bc494e4d85bf1ca92688c'), ObjectId('672bc494e4d85bf1ca92688d'), ObjectId('672bc494e4d85bf1ca92688e'), ObjectId('672bc494e4d85bf1ca92688f'), ObjectId('672bc494e4d85bf1ca926890'), ObjectId('672bc494e4d85bf1ca926891'), ObjectId('672bc494e4d85bf1ca926892'), ObjectId('672bc494e4d85bf1ca926893'), ObjectId('672bc494e4d85bf1ca926894'), ObjectId('672bc494e4d85bf1ca926895'), ObjectId('672bc494e4d85bf1ca926896'), ObjectId('672bc494e4d85bf1ca926897'), ObjectId('672bc494e4d85bf1ca926898'), ObjectId('672bc494e4d85bf1ca926899'), ObjectId('672bc494e4d85bf1ca92689a'), ObjectId('672bc494e4d85bf1ca92689b'), ObjectId('672bc494e4d85bf1ca92689c'), ObjectId('672bc494e4d85bf1ca92689d'), ObjectId('672bc494e4d85bf1ca92689e'), ObjectId('672bc494e4d85bf1ca92689f'), ObjectId('672bc494e4d85bf1ca9268a0'), ObjectId('672bc494e4d85bf1ca9268a1'), ObjectId('672bc494e4d85bf1ca9268a2'), ObjectId('672bc494e4d85bf1ca9268a3'), ObjectId('672bc494e4d85bf1ca9268a4'), ObjectId('672bc494e4d85bf1ca9268a5'), ObjectId('672bc494e4d85bf1ca9268a6'), ObjectId('672bc494e4d85bf1ca9268a7'), ObjectId('672bc494e4d85bf1ca9268a8'), ObjectId('672bc494e4d85bf1ca9268a9'), ObjectId('672bc494e4d85bf1ca9268aa'), ObjectId('672bc494e4d85bf1ca9268ab'), ObjectId('672bc494e4d85bf1ca9268ac'), ObjectId('672bc494e4d85bf1ca9268ad'), ObjectId('672bc494e4d85bf1ca9268ae'), ObjectId('672bc494e4d85bf1ca9268af'), ObjectId('672bc494e4d85bf1ca9268b0'), ObjectId('672bc494e4d85bf1ca9268b1'), ObjectId('672bc494e4d85bf1ca9268b2'), ObjectId('672bc494e4d85bf1ca9268b3'), ObjectId('672bc494e4d85bf1ca9268b4'), ObjectId('672bc494e4d85bf1ca9268b5'), ObjectId('672bc494e4d85bf1ca9268b6'), ObjectId('672bc494e4d85bf1ca9268b7'), ObjectId('672bc494e4d85bf1ca9268b8'), ObjectId('672bc494e4d85bf1ca9268b9'), ObjectId('672bc494e4d85bf1ca9268ba'), ObjectId('672bc494e4d85bf1ca9268bb'), ObjectId('672bc494e4d85bf1ca9268bc'), ObjectId('672bc494e4d85bf1ca9268bd'), ObjectId('672bc494e4d85bf1ca9268be'), ObjectId('672bc494e4d85bf1ca9268bf'), ObjectId('672bc494e4d85bf1ca9268c0'), ObjectId('672bc494e4d85bf1ca9268c1'), ObjectId('672bc494e4d85bf1ca9268c2'), ObjectId('672bc494e4d85bf1ca9268c3'), ObjectId('672bc494e4d85bf1ca9268c4'), ObjectId('672bc494e4d85bf1ca9268c5'), ObjectId('672bc494e4d85bf1ca9268c6'), ObjectId('672bc494e4d85bf1ca9268c7'), ObjectId('672bc494e4d85bf1ca9268c8'), ObjectId('672bc494e4d85bf1ca9268c9'), ObjectId('672bc494e4d85bf1ca9268ca'), ObjectId('672bc494e4d85bf1ca9268cb'), ObjectId('672bc494e4d85bf1ca9268cc'), ObjectId('672bc494e4d85bf1ca9268cd'), ObjectId('672bc494e4d85bf1ca9268ce'), ObjectId('672bc494e4d85bf1ca9268cf'), ObjectId('672bc494e4d85bf1ca9268d0'), ObjectId('672bc494e4d85bf1ca9268d1'), ObjectId('672bc494e4d85bf1ca9268d2'), ObjectId('672bc494e4d85bf1ca9268d3'), ObjectId('672bc494e4d85bf1ca9268d4'), ObjectId('672bc494e4d85bf1ca9268d5'), ObjectId('672bc494e4d85bf1ca9268d6'), ObjectId('672bc494e4d85bf1ca9268d7'), ObjectId('672bc494e4d85bf1ca9268d8'), ObjectId('672bc494e4d85bf1ca9268d9'), ObjectId('672bc494e4d85bf1ca9268da'), ObjectId('672bc494e4d85bf1ca9268db'), ObjectId('672bc494e4d85bf1ca9268dc'), ObjectId('672bc494e4d85bf1ca9268dd'), ObjectId('672bc494e4d85bf1ca9268de'), ObjectId('672bc494e4d85bf1ca9268df'), ObjectId('672bc494e4d85bf1ca9268e0'), ObjectId('672bc494e4d85bf1ca9268e1'), ObjectId('672bc494e4d85bf1ca9268e2'), ObjectId('672bc494e4d85bf1ca9268e3'), ObjectId('672bc494e4d85bf1ca9268e4'), ObjectId('672bc494e4d85bf1ca9268e5'), ObjectId('672bc494e4d85bf1ca9268e6'), ObjectId('672bc494e4d85bf1ca9268e7'), ObjectId('672bc494e4d85bf1ca9268e8'), ObjectId('672bc494e4d85bf1ca9268e9'), ObjectId('672bc494e4d85bf1ca9268ea'), ObjectId('672bc494e4d85bf1ca9268eb'), ObjectId('672bc494e4d85bf1ca9268ec'), ObjectId('672bc494e4d85bf1ca9268ed'), ObjectId('672bc494e4d85bf1ca9268ee'), ObjectId('672bc494e4d85bf1ca9268ef'), ObjectId('672bc494e4d85bf1ca9268f0'), ObjectId('672bc494e4d85bf1ca9268f1')]\n",
      ">>>>> Lưu trữ dữ liệu thành công <<<<<\n"
     ]
    }
   ],
   "source": [
    "#Push data into mongo\n",
    "document_food = []\n",
    "for page in range(1,50):\n",
    "    for item in get_item_info(page):\n",
    "        doc_food = {\n",
    "            \"id\": item['Id'],\n",
    "            \"name\": item['Name'],\n",
    "            \"address\": item['Address'],\n",
    "            \"phone\": item['Phone'],\n",
    "            \"average_rating\": item['AvgRating'],\n",
    "            \"serviecs\": item['Services']\n",
    "        }\n",
    "        document_food.append(doc_food)\n",
    "if len(document_food):\n",
    "    x = mycol.insert_many(document_food)\n",
    "    print(x.inserted_ids)\n",
    "    print(\">>>>> Lưu trữ dữ liệu thành công <<<<<\")"
   ]
  },
  {
   "cell_type": "code",
   "execution_count": null,
   "metadata": {},
   "outputs": [],
   "source": []
  }
 ],
 "metadata": {
  "kernelspec": {
   "display_name": "base",
   "language": "python",
   "name": "python3"
  },
  "language_info": {
   "codemirror_mode": {
    "name": "ipython",
    "version": 3
   },
   "file_extension": ".py",
   "mimetype": "text/x-python",
   "name": "python",
   "nbconvert_exporter": "python",
   "pygments_lexer": "ipython3",
   "version": "3.11.7"
  }
 },
 "nbformat": 4,
 "nbformat_minor": 2
}
